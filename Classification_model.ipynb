{
 "cells": [
  {
   "attachments": {},
   "cell_type": "markdown",
   "metadata": {},
   "source": [
    "Import pandas to read csv file"
   ]
  },
  {
   "cell_type": "code",
   "execution_count": 1,
   "metadata": {},
   "outputs": [],
   "source": [
    "import pandas as pd"
   ]
  },
  {
   "cell_type": "code",
   "execution_count": 2,
   "metadata": {},
   "outputs": [],
   "source": [
    "ds = pd.read_csv('data/subset_ceramics_v21032023.csv')"
   ]
  },
  {
   "attachments": {},
   "cell_type": "markdown",
   "metadata": {},
   "source": [
    "# Preprocess Data-set"
   ]
  },
  {
   "attachments": {},
   "cell_type": "markdown",
   "metadata": {},
   "source": [
    "Remove columns that are not of interest to the model "
   ]
  },
  {
   "cell_type": "code",
   "execution_count": 3,
   "metadata": {},
   "outputs": [],
   "source": [
    "ds_preprocessed = ds.drop(columns=['find_number', 'material_category', 'start_date',\n",
    "       'end_date', 'level_1_of_the_functional_classification',\n",
    "       'ceramics_rim_eve_estimated_vessel_equivalent',\n",
    "       'ceramics_base_eve_estimated_vessel_equivalent',\n",
    "       'ceramics_decoration_technique',\n",
    "       'ceramics_image_type', 'ceramics_mark'])"
   ]
  },
  {
   "attachments": {},
   "cell_type": "markdown",
   "metadata": {},
   "source": [
    "Remove rows where values are NaNs"
   ]
  },
  {
   "cell_type": "code",
   "execution_count": 4,
   "metadata": {},
   "outputs": [
    {
     "data": {
      "text/plain": [
       "material                                         0\n",
       "level_2_of_the_functional_classification         0\n",
       "ceramics_reconstructed_object_diameter_in_mm     0\n",
       "ceramics_reconstructed_object_height_in_mm       0\n",
       "ceramics_surface_treatment                      52\n",
       "dtype: int64"
      ]
     },
     "execution_count": 4,
     "metadata": {},
     "output_type": "execute_result"
    }
   ],
   "source": [
    "ds_preprocessed.isna().sum()"
   ]
  },
  {
   "cell_type": "code",
   "execution_count": 5,
   "metadata": {},
   "outputs": [
    {
     "data": {
      "text/plain": [
       "material                                        0\n",
       "level_2_of_the_functional_classification        0\n",
       "ceramics_reconstructed_object_diameter_in_mm    0\n",
       "ceramics_reconstructed_object_height_in_mm      0\n",
       "ceramics_surface_treatment                      0\n",
       "dtype: int64"
      ]
     },
     "execution_count": 5,
     "metadata": {},
     "output_type": "execute_result"
    }
   ],
   "source": [
    "ds_preprocessed = ds_preprocessed.dropna()\n",
    "ds_preprocessed.isna().sum()"
   ]
  },
  {
   "attachments": {},
   "cell_type": "markdown",
   "metadata": {},
   "source": [
    "Reduce data-set to a binary classification problem with only 'Consumption: drinking' and 'Food consumption: plate, dish, bowl' as categories."
   ]
  },
  {
   "cell_type": "code",
   "execution_count": 6,
   "metadata": {},
   "outputs": [
    {
     "data": {
      "text/plain": [
       "0       Food consumption: plate, dish, bowl\n",
       "1       Food consumption: plate, dish, bowl\n",
       "2                     Consumption: drinking\n",
       "3                     Consumption: drinking\n",
       "4                     Consumption: drinking\n",
       "                       ...                 \n",
       "3404    Food consumption: plate, dish, bowl\n",
       "3405    Food consumption: plate, dish, bowl\n",
       "3406    Food consumption: plate, dish, bowl\n",
       "3407    Food consumption: plate, dish, bowl\n",
       "3409    Food consumption: plate, dish, bowl\n",
       "Name: level_2_of_the_functional_classification, Length: 2972, dtype: category\n",
       "Categories (2, object): ['Consumption: drinking', 'Food consumption: plate, dish, bowl']"
      ]
     },
     "execution_count": 6,
     "metadata": {},
     "output_type": "execute_result"
    }
   ],
   "source": [
    "ds_preprocessed = ds_preprocessed.query(\"level_2_of_the_functional_classification == ['Consumption: drinking', 'Food consumption: plate, dish, bowl']\")  \n",
    "ds_preprocessed['level_2_of_the_functional_classification'] = ds_preprocessed['level_2_of_the_functional_classification'].astype('category')\n",
    "ds_preprocessed['level_2_of_the_functional_classification']"
   ]
  },
  {
   "attachments": {},
   "cell_type": "markdown",
   "metadata": {},
   "source": [
    "Create target one-hot vector"
   ]
  },
  {
   "cell_type": "code",
   "execution_count": 7,
   "metadata": {},
   "outputs": [
    {
     "data": {
      "text/plain": [
       "Consumption: drinking                   841\n",
       "Food consumption: plate, dish, bowl    2131\n",
       "dtype: int64"
      ]
     },
     "execution_count": 7,
     "metadata": {},
     "output_type": "execute_result"
    }
   ],
   "source": [
    "#Create target output\n",
    "target = pd.get_dummies(ds_preprocessed['level_2_of_the_functional_classification'])\n",
    "target.sum()"
   ]
  },
  {
   "attachments": {},
   "cell_type": "markdown",
   "metadata": {},
   "source": [
    "Convert 'material' and 'ceramics_surface_treatment' in to integer values for use as input to the machine learning model and extract the features."
   ]
  },
  {
   "cell_type": "code",
   "execution_count": 8,
   "metadata": {},
   "outputs": [],
   "source": [
    "ds_preprocessed['material_categorized'] = ds_preprocessed['material'].astype('category').cat.codes + 1\n",
    "ds_preprocessed['treatment_categorized'] = ds_preprocessed['ceramics_surface_treatment'].astype('category').cat.codes + 1"
   ]
  },
  {
   "cell_type": "code",
   "execution_count": 9,
   "metadata": {},
   "outputs": [
    {
     "data": {
      "text/html": [
       "<div>\n",
       "<style scoped>\n",
       "    .dataframe tbody tr th:only-of-type {\n",
       "        vertical-align: middle;\n",
       "    }\n",
       "\n",
       "    .dataframe tbody tr th {\n",
       "        vertical-align: top;\n",
       "    }\n",
       "\n",
       "    .dataframe thead th {\n",
       "        text-align: right;\n",
       "    }\n",
       "</style>\n",
       "<table border=\"1\" class=\"dataframe\">\n",
       "  <thead>\n",
       "    <tr style=\"text-align: right;\">\n",
       "      <th></th>\n",
       "      <th>ceramics_reconstructed_object_diameter_in_mm</th>\n",
       "      <th>ceramics_reconstructed_object_height_in_mm</th>\n",
       "      <th>material_categorized</th>\n",
       "      <th>treatment_categorized</th>\n",
       "    </tr>\n",
       "  </thead>\n",
       "  <tbody>\n",
       "    <tr>\n",
       "      <th>0</th>\n",
       "      <td>270</td>\n",
       "      <td>60</td>\n",
       "      <td>32</td>\n",
       "      <td>9</td>\n",
       "    </tr>\n",
       "    <tr>\n",
       "      <th>1</th>\n",
       "      <td>260</td>\n",
       "      <td>38</td>\n",
       "      <td>29</td>\n",
       "      <td>5</td>\n",
       "    </tr>\n",
       "    <tr>\n",
       "      <th>2</th>\n",
       "      <td>100</td>\n",
       "      <td>25</td>\n",
       "      <td>9</td>\n",
       "      <td>8</td>\n",
       "    </tr>\n",
       "    <tr>\n",
       "      <th>3</th>\n",
       "      <td>120</td>\n",
       "      <td>150</td>\n",
       "      <td>10</td>\n",
       "      <td>19</td>\n",
       "    </tr>\n",
       "    <tr>\n",
       "      <th>4</th>\n",
       "      <td>110</td>\n",
       "      <td>40</td>\n",
       "      <td>15</td>\n",
       "      <td>25</td>\n",
       "    </tr>\n",
       "    <tr>\n",
       "      <th>...</th>\n",
       "      <td>...</td>\n",
       "      <td>...</td>\n",
       "      <td>...</td>\n",
       "      <td>...</td>\n",
       "    </tr>\n",
       "    <tr>\n",
       "      <th>3404</th>\n",
       "      <td>140</td>\n",
       "      <td>20</td>\n",
       "      <td>19</td>\n",
       "      <td>1</td>\n",
       "    </tr>\n",
       "    <tr>\n",
       "      <th>3405</th>\n",
       "      <td>120</td>\n",
       "      <td>25</td>\n",
       "      <td>32</td>\n",
       "      <td>9</td>\n",
       "    </tr>\n",
       "    <tr>\n",
       "      <th>3406</th>\n",
       "      <td>260</td>\n",
       "      <td>50</td>\n",
       "      <td>28</td>\n",
       "      <td>6</td>\n",
       "    </tr>\n",
       "    <tr>\n",
       "      <th>3407</th>\n",
       "      <td>240</td>\n",
       "      <td>28</td>\n",
       "      <td>3</td>\n",
       "      <td>25</td>\n",
       "    </tr>\n",
       "    <tr>\n",
       "      <th>3409</th>\n",
       "      <td>220</td>\n",
       "      <td>42</td>\n",
       "      <td>19</td>\n",
       "      <td>1</td>\n",
       "    </tr>\n",
       "  </tbody>\n",
       "</table>\n",
       "<p>2972 rows × 4 columns</p>\n",
       "</div>"
      ],
      "text/plain": [
       "      ceramics_reconstructed_object_diameter_in_mm  \\\n",
       "0                                              270   \n",
       "1                                              260   \n",
       "2                                              100   \n",
       "3                                              120   \n",
       "4                                              110   \n",
       "...                                            ...   \n",
       "3404                                           140   \n",
       "3405                                           120   \n",
       "3406                                           260   \n",
       "3407                                           240   \n",
       "3409                                           220   \n",
       "\n",
       "      ceramics_reconstructed_object_height_in_mm  material_categorized  \\\n",
       "0                                             60                    32   \n",
       "1                                             38                    29   \n",
       "2                                             25                     9   \n",
       "3                                            150                    10   \n",
       "4                                             40                    15   \n",
       "...                                          ...                   ...   \n",
       "3404                                          20                    19   \n",
       "3405                                          25                    32   \n",
       "3406                                          50                    28   \n",
       "3407                                          28                     3   \n",
       "3409                                          42                    19   \n",
       "\n",
       "      treatment_categorized  \n",
       "0                         9  \n",
       "1                         5  \n",
       "2                         8  \n",
       "3                        19  \n",
       "4                        25  \n",
       "...                     ...  \n",
       "3404                      1  \n",
       "3405                      9  \n",
       "3406                      6  \n",
       "3407                     25  \n",
       "3409                      1  \n",
       "\n",
       "[2972 rows x 4 columns]"
      ]
     },
     "execution_count": 9,
     "metadata": {},
     "output_type": "execute_result"
    }
   ],
   "source": [
    "ds_features = ds_preprocessed.drop(columns=['level_2_of_the_functional_classification', 'material', 'ceramics_surface_treatment'])\n",
    "ds_features"
   ]
  },
  {
   "attachments": {},
   "cell_type": "markdown",
   "metadata": {},
   "source": [
    "Split data-set into train and test data-sets"
   ]
  },
  {
   "cell_type": "code",
   "execution_count": 10,
   "metadata": {},
   "outputs": [],
   "source": [
    "from sklearn.model_selection import train_test_split\n",
    "\n",
    "X_train, X_test, y_train, y_test = train_test_split(ds_features, target,test_size=0.2, random_state=0, shuffle=True, stratify=target)"
   ]
  },
  {
   "cell_type": "code",
   "execution_count": 11,
   "metadata": {},
   "outputs": [
    {
     "data": {
      "text/plain": [
       "Consumption: drinking                   673\n",
       "Food consumption: plate, dish, bowl    1704\n",
       "dtype: int64"
      ]
     },
     "execution_count": 11,
     "metadata": {},
     "output_type": "execute_result"
    }
   ],
   "source": [
    "y_train.sum()"
   ]
  },
  {
   "attachments": {},
   "cell_type": "markdown",
   "metadata": {},
   "source": [
    "# Create NN model for classification"
   ]
  },
  {
   "cell_type": "code",
   "execution_count": 12,
   "metadata": {},
   "outputs": [
    {
     "name": "stderr",
     "output_type": "stream",
     "text": [
      "2023-03-22 13:44:24.877351: I tensorflow/core/platform/cpu_feature_guard.cc:193] This TensorFlow binary is optimized with oneAPI Deep Neural Network Library (oneDNN) to use the following CPU instructions in performance-critical operations:  AVX2 AVX512F AVX512_VNNI FMA\n",
      "To enable them in other operations, rebuild TensorFlow with the appropriate compiler flags.\n",
      "2023-03-22 13:44:25.163235: I tensorflow/core/util/port.cc:104] oneDNN custom operations are on. You may see slightly different numerical results due to floating-point round-off errors from different computation orders. To turn them off, set the environment variable `TF_ENABLE_ONEDNN_OPTS=0`.\n",
      "2023-03-22 13:44:25.168205: W tensorflow/compiler/xla/stream_executor/platform/default/dso_loader.cc:64] Could not load dynamic library 'libcudart.so.11.0'; dlerror: libcudart.so.11.0: cannot open shared object file: No such file or directory\n",
      "2023-03-22 13:44:25.168231: I tensorflow/compiler/xla/stream_executor/cuda/cudart_stub.cc:29] Ignore above cudart dlerror if you do not have a GPU set up on your machine.\n",
      "2023-03-22 13:44:26.296327: W tensorflow/compiler/xla/stream_executor/platform/default/dso_loader.cc:64] Could not load dynamic library 'libnvinfer.so.7'; dlerror: libnvinfer.so.7: cannot open shared object file: No such file or directory\n",
      "2023-03-22 13:44:26.296468: W tensorflow/compiler/xla/stream_executor/platform/default/dso_loader.cc:64] Could not load dynamic library 'libnvinfer_plugin.so.7'; dlerror: libnvinfer_plugin.so.7: cannot open shared object file: No such file or directory\n",
      "2023-03-22 13:44:26.296476: W tensorflow/compiler/tf2tensorrt/utils/py_utils.cc:38] TF-TRT Warning: Cannot dlopen some TensorRT libraries. If you would like to use Nvidia GPU with TensorRT, please make sure the missing libraries mentioned above are installed properly.\n"
     ]
    }
   ],
   "source": [
    "from tensorflow import keras\n",
    "from numpy.random import seed\n",
    "seed(1)\n",
    "from tensorflow.random import set_seed\n",
    "set_seed(2)"
   ]
  },
  {
   "cell_type": "code",
   "execution_count": 13,
   "metadata": {},
   "outputs": [],
   "source": [
    "inputs = keras.Input(shape=X_train.shape[1])"
   ]
  },
  {
   "cell_type": "code",
   "execution_count": 14,
   "metadata": {},
   "outputs": [
    {
     "name": "stderr",
     "output_type": "stream",
     "text": [
      "2023-03-22 13:44:29.253278: W tensorflow/compiler/xla/stream_executor/platform/default/dso_loader.cc:64] Could not load dynamic library 'libcuda.so.1'; dlerror: libcuda.so.1: cannot open shared object file: No such file or directory\n",
      "2023-03-22 13:44:29.253361: W tensorflow/compiler/xla/stream_executor/cuda/cuda_driver.cc:265] failed call to cuInit: UNKNOWN ERROR (303)\n",
      "2023-03-22 13:44:29.253424: I tensorflow/compiler/xla/stream_executor/cuda/cuda_diagnostics.cc:156] kernel driver does not appear to be running on this host (DESKTOP-8JIHBQC): /proc/driver/nvidia/version does not exist\n",
      "2023-03-22 13:44:29.253994: I tensorflow/core/platform/cpu_feature_guard.cc:193] This TensorFlow binary is optimized with oneAPI Deep Neural Network Library (oneDNN) to use the following CPU instructions in performance-critical operations:  AVX2 AVX512F AVX512_VNNI FMA\n",
      "To enable them in other operations, rebuild TensorFlow with the appropriate compiler flags.\n"
     ]
    }
   ],
   "source": [
    "hidden_layer = keras.layers.Dense(10, activation=\"relu\")(inputs)"
   ]
  },
  {
   "cell_type": "code",
   "execution_count": 16,
   "metadata": {},
   "outputs": [],
   "source": [
    "output_layer = keras.layers.Dense(2, activation=\"softmax\")(hidden_layer)"
   ]
  },
  {
   "cell_type": "code",
   "execution_count": 17,
   "metadata": {},
   "outputs": [
    {
     "name": "stdout",
     "output_type": "stream",
     "text": [
      "Model: \"model\"\n",
      "_________________________________________________________________\n",
      " Layer (type)                Output Shape              Param #   \n",
      "=================================================================\n",
      " input_1 (InputLayer)        [(None, 4)]               0         \n",
      "                                                                 \n",
      " dense (Dense)               (None, 10)                50        \n",
      "                                                                 \n",
      " dense_2 (Dense)             (None, 2)                 22        \n",
      "                                                                 \n",
      "=================================================================\n",
      "Total params: 72\n",
      "Trainable params: 72\n",
      "Non-trainable params: 0\n",
      "_________________________________________________________________\n"
     ]
    }
   ],
   "source": [
    "model = keras.Model(inputs=inputs, outputs=output_layer)\n",
    "model.summary()"
   ]
  },
  {
   "attachments": {},
   "cell_type": "markdown",
   "metadata": {},
   "source": [
    "# Compile and run the model"
   ]
  },
  {
   "cell_type": "code",
   "execution_count": 18,
   "metadata": {},
   "outputs": [],
   "source": [
    "model.compile(optimizer='adam', loss=keras.losses.CategoricalCrossentropy())"
   ]
  },
  {
   "cell_type": "code",
   "execution_count": 19,
   "metadata": {},
   "outputs": [
    {
     "name": "stdout",
     "output_type": "stream",
     "text": [
      "Epoch 1/100\n",
      "75/75 [==============================] - 1s 4ms/step - loss: 93.5449\n",
      "Epoch 2/100\n",
      "75/75 [==============================] - 0s 4ms/step - loss: 23.2324\n",
      "Epoch 3/100\n",
      "75/75 [==============================] - 0s 3ms/step - loss: 2.0050\n",
      "Epoch 4/100\n",
      "75/75 [==============================] - 0s 3ms/step - loss: 0.4918\n",
      "Epoch 5/100\n",
      "75/75 [==============================] - 0s 3ms/step - loss: 0.3712\n",
      "Epoch 6/100\n",
      "75/75 [==============================] - 0s 4ms/step - loss: 0.3641\n",
      "Epoch 7/100\n",
      "75/75 [==============================] - 0s 3ms/step - loss: 0.3584\n",
      "Epoch 8/100\n",
      "75/75 [==============================] - 0s 3ms/step - loss: 0.3542\n",
      "Epoch 9/100\n",
      "75/75 [==============================] - 0s 3ms/step - loss: 0.3498\n",
      "Epoch 10/100\n",
      "75/75 [==============================] - 0s 3ms/step - loss: 0.3494\n",
      "Epoch 11/100\n",
      "75/75 [==============================] - 0s 3ms/step - loss: 0.3418\n",
      "Epoch 12/100\n",
      "75/75 [==============================] - 0s 3ms/step - loss: 0.3394\n",
      "Epoch 13/100\n",
      "75/75 [==============================] - 0s 3ms/step - loss: 0.3365\n",
      "Epoch 14/100\n",
      "75/75 [==============================] - 0s 3ms/step - loss: 0.3325\n",
      "Epoch 15/100\n",
      "75/75 [==============================] - 0s 3ms/step - loss: 0.3323\n",
      "Epoch 16/100\n",
      "75/75 [==============================] - 0s 3ms/step - loss: 0.3311\n",
      "Epoch 17/100\n",
      "75/75 [==============================] - 0s 3ms/step - loss: 0.3274\n",
      "Epoch 18/100\n",
      "75/75 [==============================] - 0s 3ms/step - loss: 0.3225\n",
      "Epoch 19/100\n",
      "75/75 [==============================] - 0s 3ms/step - loss: 0.3200\n",
      "Epoch 20/100\n",
      "75/75 [==============================] - 0s 3ms/step - loss: 0.3195\n",
      "Epoch 21/100\n",
      "75/75 [==============================] - 0s 3ms/step - loss: 0.3119\n",
      "Epoch 22/100\n",
      "75/75 [==============================] - 0s 3ms/step - loss: 0.3103\n",
      "Epoch 23/100\n",
      "75/75 [==============================] - 0s 3ms/step - loss: 0.3056\n",
      "Epoch 24/100\n",
      "75/75 [==============================] - 0s 3ms/step - loss: 0.3053\n",
      "Epoch 25/100\n",
      "75/75 [==============================] - 0s 3ms/step - loss: 0.3041\n",
      "Epoch 26/100\n",
      "75/75 [==============================] - 0s 3ms/step - loss: 0.2987\n",
      "Epoch 27/100\n",
      "75/75 [==============================] - 0s 3ms/step - loss: 0.2942\n",
      "Epoch 28/100\n",
      "75/75 [==============================] - 0s 3ms/step - loss: 0.2932\n",
      "Epoch 29/100\n",
      "75/75 [==============================] - 0s 3ms/step - loss: 0.2864\n",
      "Epoch 30/100\n",
      "75/75 [==============================] - 0s 3ms/step - loss: 0.2814\n",
      "Epoch 31/100\n",
      "75/75 [==============================] - 0s 2ms/step - loss: 0.2743\n",
      "Epoch 32/100\n",
      "75/75 [==============================] - 0s 2ms/step - loss: 0.2684\n",
      "Epoch 33/100\n",
      "75/75 [==============================] - 0s 2ms/step - loss: 0.2647\n",
      "Epoch 34/100\n",
      "75/75 [==============================] - 0s 3ms/step - loss: 0.2627\n",
      "Epoch 35/100\n",
      "75/75 [==============================] - 0s 3ms/step - loss: 0.2591\n",
      "Epoch 36/100\n",
      "75/75 [==============================] - 0s 3ms/step - loss: 0.2580\n",
      "Epoch 37/100\n",
      "75/75 [==============================] - 0s 3ms/step - loss: 0.2572\n",
      "Epoch 38/100\n",
      "75/75 [==============================] - 0s 3ms/step - loss: 0.2492\n",
      "Epoch 39/100\n",
      "75/75 [==============================] - 0s 3ms/step - loss: 0.2476\n",
      "Epoch 40/100\n",
      "75/75 [==============================] - 0s 3ms/step - loss: 0.2455\n",
      "Epoch 41/100\n",
      "75/75 [==============================] - 0s 4ms/step - loss: 0.2408\n",
      "Epoch 42/100\n",
      "75/75 [==============================] - 0s 4ms/step - loss: 0.2367\n",
      "Epoch 43/100\n",
      "75/75 [==============================] - 0s 3ms/step - loss: 0.2348\n",
      "Epoch 44/100\n",
      "75/75 [==============================] - 0s 3ms/step - loss: 0.2306\n",
      "Epoch 45/100\n",
      "75/75 [==============================] - 0s 2ms/step - loss: 0.2323\n",
      "Epoch 46/100\n",
      "75/75 [==============================] - 0s 3ms/step - loss: 0.2290\n",
      "Epoch 47/100\n",
      "75/75 [==============================] - 0s 3ms/step - loss: 0.2243\n",
      "Epoch 48/100\n",
      "75/75 [==============================] - 0s 3ms/step - loss: 0.2279\n",
      "Epoch 49/100\n",
      "75/75 [==============================] - 0s 3ms/step - loss: 0.2192\n",
      "Epoch 50/100\n",
      "75/75 [==============================] - 0s 3ms/step - loss: 0.2231\n",
      "Epoch 51/100\n",
      "75/75 [==============================] - 0s 3ms/step - loss: 0.2161\n",
      "Epoch 52/100\n",
      "75/75 [==============================] - 0s 3ms/step - loss: 0.2186\n",
      "Epoch 53/100\n",
      "75/75 [==============================] - 0s 3ms/step - loss: 0.2138\n",
      "Epoch 54/100\n",
      "75/75 [==============================] - 0s 3ms/step - loss: 0.2119\n",
      "Epoch 55/100\n",
      "75/75 [==============================] - 0s 3ms/step - loss: 0.2217\n",
      "Epoch 56/100\n",
      "75/75 [==============================] - 0s 3ms/step - loss: 0.2096\n",
      "Epoch 57/100\n",
      "75/75 [==============================] - 0s 3ms/step - loss: 0.2073\n",
      "Epoch 58/100\n",
      "75/75 [==============================] - 0s 3ms/step - loss: 0.2043\n",
      "Epoch 59/100\n",
      "75/75 [==============================] - 0s 3ms/step - loss: 0.2061\n",
      "Epoch 60/100\n",
      "75/75 [==============================] - 0s 3ms/step - loss: 0.1992\n",
      "Epoch 61/100\n",
      "75/75 [==============================] - 0s 3ms/step - loss: 0.1990\n",
      "Epoch 62/100\n",
      "75/75 [==============================] - 0s 3ms/step - loss: 0.1981\n",
      "Epoch 63/100\n",
      "75/75 [==============================] - 0s 3ms/step - loss: 0.1943\n",
      "Epoch 64/100\n",
      "75/75 [==============================] - 0s 3ms/step - loss: 0.1926\n",
      "Epoch 65/100\n",
      "75/75 [==============================] - 0s 3ms/step - loss: 0.1924\n",
      "Epoch 66/100\n",
      "75/75 [==============================] - 0s 3ms/step - loss: 0.1946\n",
      "Epoch 67/100\n",
      "75/75 [==============================] - 0s 3ms/step - loss: 0.1893\n",
      "Epoch 68/100\n",
      "75/75 [==============================] - 0s 2ms/step - loss: 0.1895\n",
      "Epoch 69/100\n",
      "75/75 [==============================] - 0s 3ms/step - loss: 0.1907\n",
      "Epoch 70/100\n",
      "75/75 [==============================] - 0s 3ms/step - loss: 0.1888\n",
      "Epoch 71/100\n",
      "75/75 [==============================] - 0s 3ms/step - loss: 0.1889\n",
      "Epoch 72/100\n",
      "75/75 [==============================] - 0s 3ms/step - loss: 0.1828\n",
      "Epoch 73/100\n",
      "75/75 [==============================] - 0s 3ms/step - loss: 0.1824\n",
      "Epoch 74/100\n",
      "75/75 [==============================] - 0s 3ms/step - loss: 0.1891\n",
      "Epoch 75/100\n",
      "75/75 [==============================] - 0s 3ms/step - loss: 0.1909\n",
      "Epoch 76/100\n",
      "75/75 [==============================] - 0s 2ms/step - loss: 0.1825\n",
      "Epoch 77/100\n",
      "75/75 [==============================] - 0s 3ms/step - loss: 0.1885\n",
      "Epoch 78/100\n",
      "75/75 [==============================] - 0s 3ms/step - loss: 0.1780\n",
      "Epoch 79/100\n",
      "75/75 [==============================] - 0s 3ms/step - loss: 0.1807\n",
      "Epoch 80/100\n",
      "75/75 [==============================] - 0s 3ms/step - loss: 0.1763\n",
      "Epoch 81/100\n",
      "75/75 [==============================] - 0s 3ms/step - loss: 0.1795\n",
      "Epoch 82/100\n",
      "75/75 [==============================] - 0s 3ms/step - loss: 0.1800\n",
      "Epoch 83/100\n",
      "75/75 [==============================] - 0s 3ms/step - loss: 0.1832\n",
      "Epoch 84/100\n",
      "75/75 [==============================] - 0s 3ms/step - loss: 0.1732\n",
      "Epoch 85/100\n",
      "75/75 [==============================] - 0s 3ms/step - loss: 0.1707\n",
      "Epoch 86/100\n",
      "75/75 [==============================] - 0s 3ms/step - loss: 0.1727\n",
      "Epoch 87/100\n",
      "75/75 [==============================] - 0s 3ms/step - loss: 0.1732\n",
      "Epoch 88/100\n",
      "75/75 [==============================] - 0s 2ms/step - loss: 0.1703\n",
      "Epoch 89/100\n",
      "75/75 [==============================] - 0s 3ms/step - loss: 0.1705\n",
      "Epoch 90/100\n",
      "75/75 [==============================] - 0s 3ms/step - loss: 0.1689\n",
      "Epoch 91/100\n",
      "75/75 [==============================] - 0s 2ms/step - loss: 0.1670\n",
      "Epoch 92/100\n",
      "75/75 [==============================] - 0s 3ms/step - loss: 0.1667\n",
      "Epoch 93/100\n",
      "75/75 [==============================] - 0s 3ms/step - loss: 0.1697\n",
      "Epoch 94/100\n",
      "75/75 [==============================] - 0s 3ms/step - loss: 0.1668\n",
      "Epoch 95/100\n",
      "75/75 [==============================] - 0s 2ms/step - loss: 0.1614\n",
      "Epoch 96/100\n",
      "75/75 [==============================] - 0s 3ms/step - loss: 0.1718\n",
      "Epoch 97/100\n",
      "75/75 [==============================] - 0s 2ms/step - loss: 0.1682\n",
      "Epoch 98/100\n",
      "75/75 [==============================] - 0s 3ms/step - loss: 0.1622\n",
      "Epoch 99/100\n",
      "75/75 [==============================] - 0s 3ms/step - loss: 0.1623\n",
      "Epoch 100/100\n",
      "75/75 [==============================] - 0s 3ms/step - loss: 0.1626\n"
     ]
    }
   ],
   "source": [
    "history = model.fit(X_train, y_train, epochs=100)"
   ]
  },
  {
   "cell_type": "code",
   "execution_count": 20,
   "metadata": {},
   "outputs": [
    {
     "data": {
      "text/plain": [
       "<Axes: >"
      ]
     },
     "execution_count": 20,
     "metadata": {},
     "output_type": "execute_result"
    },
    {
     "data": {
      "image/png": "[encoded data removed]",
      "text/plain": [
       "<Figure size 640x480 with 1 Axes>"
      ]
     },
     "metadata": {},
     "output_type": "display_data"
    }
   ],
   "source": [
    "import seaborn as sns\n",
    "sns.lineplot(x=history.epoch, y=history.history['loss'])"
   ]
  },
  {
   "attachments": {},
   "cell_type": "markdown",
   "metadata": {},
   "source": [
    "# Predict and diagnose model results"
   ]
  },
  {
   "cell_type": "code",
   "execution_count": 21,
   "metadata": {},
   "outputs": [
    {
     "name": "stdout",
     "output_type": "stream",
     "text": [
      "19/19 [==============================] - 0s 3ms/step\n"
     ]
    },
    {
     "data": {
      "text/html": [
       "<div>\n",
       "<style scoped>\n",
       "    .dataframe tbody tr th:only-of-type {\n",
       "        vertical-align: middle;\n",
       "    }\n",
       "\n",
       "    .dataframe tbody tr th {\n",
       "        vertical-align: top;\n",
       "    }\n",
       "\n",
       "    .dataframe thead th {\n",
       "        text-align: right;\n",
       "    }\n",
       "</style>\n",
       "<table border=\"1\" class=\"dataframe\">\n",
       "  <thead>\n",
       "    <tr style=\"text-align: right;\">\n",
       "      <th></th>\n",
       "      <th>Consumption: drinking</th>\n",
       "      <th>Food consumption: plate, dish, bowl</th>\n",
       "    </tr>\n",
       "  </thead>\n",
       "  <tbody>\n",
       "    <tr>\n",
       "      <th>0</th>\n",
       "      <td>1.324739e-07</td>\n",
       "      <td>1.000000</td>\n",
       "    </tr>\n",
       "    <tr>\n",
       "      <th>1</th>\n",
       "      <td>8.041527e-01</td>\n",
       "      <td>0.195847</td>\n",
       "    </tr>\n",
       "    <tr>\n",
       "      <th>2</th>\n",
       "      <td>8.347266e-09</td>\n",
       "      <td>1.000000</td>\n",
       "    </tr>\n",
       "    <tr>\n",
       "      <th>3</th>\n",
       "      <td>8.131727e-01</td>\n",
       "      <td>0.186827</td>\n",
       "    </tr>\n",
       "    <tr>\n",
       "      <th>4</th>\n",
       "      <td>9.802856e-02</td>\n",
       "      <td>0.901972</td>\n",
       "    </tr>\n",
       "    <tr>\n",
       "      <th>...</th>\n",
       "      <td>...</td>\n",
       "      <td>...</td>\n",
       "    </tr>\n",
       "    <tr>\n",
       "      <th>590</th>\n",
       "      <td>5.585536e-01</td>\n",
       "      <td>0.441446</td>\n",
       "    </tr>\n",
       "    <tr>\n",
       "      <th>591</th>\n",
       "      <td>1.555870e-01</td>\n",
       "      <td>0.844413</td>\n",
       "    </tr>\n",
       "    <tr>\n",
       "      <th>592</th>\n",
       "      <td>9.982086e-01</td>\n",
       "      <td>0.001791</td>\n",
       "    </tr>\n",
       "    <tr>\n",
       "      <th>593</th>\n",
       "      <td>2.276256e-01</td>\n",
       "      <td>0.772374</td>\n",
       "    </tr>\n",
       "    <tr>\n",
       "      <th>594</th>\n",
       "      <td>9.999717e-01</td>\n",
       "      <td>0.000028</td>\n",
       "    </tr>\n",
       "  </tbody>\n",
       "</table>\n",
       "<p>595 rows × 2 columns</p>\n",
       "</div>"
      ],
      "text/plain": [
       "     Consumption: drinking  Food consumption: plate, dish, bowl\n",
       "0             1.324739e-07                             1.000000\n",
       "1             8.041527e-01                             0.195847\n",
       "2             8.347266e-09                             1.000000\n",
       "3             8.131727e-01                             0.186827\n",
       "4             9.802856e-02                             0.901972\n",
       "..                     ...                                  ...\n",
       "590           5.585536e-01                             0.441446\n",
       "591           1.555870e-01                             0.844413\n",
       "592           9.982086e-01                             0.001791\n",
       "593           2.276256e-01                             0.772374\n",
       "594           9.999717e-01                             0.000028\n",
       "\n",
       "[595 rows x 2 columns]"
      ]
     },
     "execution_count": 21,
     "metadata": {},
     "output_type": "execute_result"
    }
   ],
   "source": [
    "y_pred = model.predict(X_test)\n",
    "prediction = pd.DataFrame(y_pred, columns=target.columns)\n",
    "prediction"
   ]
  },
  {
   "cell_type": "code",
   "execution_count": 22,
   "metadata": {},
   "outputs": [
    {
     "data": {
      "text/plain": [
       "0      Food consumption: plate, dish, bowl\n",
       "1                    Consumption: drinking\n",
       "2      Food consumption: plate, dish, bowl\n",
       "3                    Consumption: drinking\n",
       "4      Food consumption: plate, dish, bowl\n",
       "                      ...                 \n",
       "590                  Consumption: drinking\n",
       "591    Food consumption: plate, dish, bowl\n",
       "592                  Consumption: drinking\n",
       "593    Food consumption: plate, dish, bowl\n",
       "594                  Consumption: drinking\n",
       "Length: 595, dtype: object"
      ]
     },
     "execution_count": 22,
     "metadata": {},
     "output_type": "execute_result"
    }
   ],
   "source": [
    "predicted_classification = prediction.idxmax(axis=\"columns\")\n",
    "predicted_classification"
   ]
  },
  {
   "attachments": {},
   "cell_type": "markdown",
   "metadata": {},
   "source": [
    "Create confusion matrix to visually inspect results"
   ]
  },
  {
   "cell_type": "code",
   "execution_count": 23,
   "metadata": {},
   "outputs": [
    {
     "name": "stdout",
     "output_type": "stream",
     "text": [
      "[[165   3]\n",
      " [ 43 384]]\n"
     ]
    }
   ],
   "source": [
    "from sklearn.metrics import confusion_matrix\n",
    "\n",
    "true_classification = y_test.idxmax(axis=\"columns\")\n",
    "\n",
    "matrix = confusion_matrix(true_classification, predicted_classification)\n",
    "print(matrix)"
   ]
  },
  {
   "cell_type": "code",
   "execution_count": 25,
   "metadata": {},
   "outputs": [],
   "source": [
    "# Convert to a pandas dataframe\n",
    "confusion_df = pd.DataFrame(matrix, index=y_test.columns.values, columns=y_test.columns.values)\n",
    "\n",
    "# Set the names of the x and y axis, this helps with the readability of the heatmap.\n",
    "confusion_df.index.name = 'True Label'\n",
    "confusion_df.columns.name = 'Predicted Label'"
   ]
  },
  {
   "cell_type": "code",
   "execution_count": 26,
   "metadata": {},
   "outputs": [
    {
     "data": {
      "text/plain": [
       "<Axes: xlabel='Predicted Label', ylabel='True Label'>"
      ]
     },
     "execution_count": 26,
     "metadata": {},
     "output_type": "execute_result"
    },
    {
     "data": {
      "image/png": "[encoded data removed]",
      "text/plain": [
       "<Figure size 640x480 with 2 Axes>"
      ]
     },
     "metadata": {},
     "output_type": "display_data"
    }
   ],
   "source": [
    "sns.heatmap(confusion_df, annot=True)"
   ]
  }
 ],
 "metadata": {
  "kernelspec": {
   "display_name": "dl_wkshop",
   "language": "python",
   "name": "python3"
  },
  "language_info": {
   "codemirror_mode": {
    "name": "ipython",
    "version": 3
   },
   "file_extension": ".py",
   "mimetype": "text/x-python",
   "name": "python",
   "nbconvert_exporter": "python",
   "pygments_lexer": "ipython3",
   "version": "3.10.9"
  },
  "orig_nbformat": 4
 },
 "nbformat": 4,
 "nbformat_minor": 2
}
